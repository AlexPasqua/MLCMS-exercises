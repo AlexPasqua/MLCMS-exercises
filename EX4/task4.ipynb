{
 "cells": [
  {
   "cell_type": "markdown",
   "metadata": {},
   "source": [
    "# Fire Evacuation Planning for the MI Building"
   ]
  },
  {
   "cell_type": "code",
   "execution_count": null,
   "metadata": {},
   "outputs": [],
   "source": [
    "import numpy as np\n",
    "import matplotlib.pyplot as plt\n",
    "import matplotlib.patches as patches\n",
    "from sklearn.preprocessing import MinMaxScaler\n",
    "import torch\n",
    "import torch.optim as optim\n",
    "from torch.utils.data import TensorDataset, DataLoader\n",
    "\n",
    "from vae_utils import *\n",
    "from vae import VAE"
   ]
  },
  {
   "cell_type": "code",
   "execution_count": null,
   "metadata": {},
   "outputs": [],
   "source": [
    "train_set = np.load(\"data/FireEvac_train_set.npy\")\n",
    "test_set = np.load(\"data/FireEvac_test_set.npy\")\n",
    "train_set.shape, test_set.shape"
   ]
  },
  {
   "cell_type": "markdown",
   "metadata": {},
   "source": [
    "Scatter plot train and test data"
   ]
  },
  {
   "cell_type": "code",
   "execution_count": null,
   "metadata": {},
   "outputs": [],
   "source": [
    "fig, ax = plt.subplots(1,2, figsize=(15,9))\n",
    "fig.suptitle(\"MI BUILDING DATASET\")\n",
    "ax[0].scatter(train_set[:,0], train_set[:,1])\n",
    "ax[0].set_title(\"MI BUILDING - train\")\n",
    "ax[1].scatter(test_set[:,0], test_set[:,1], c='red')\n",
    "ax[1].set_title(\"MI BUILDING - test\")\n",
    "# Create a Rectangle patch\n",
    "rect = patches.Rectangle((130, 50), 20, 20, linewidth=1, edgecolor='r', facecolor='none')\n",
    "# Add the patch to the Axes\n",
    "ax[0].add_patch(rect)\n",
    "plt.show()"
   ]
  },
  {
   "cell_type": "markdown",
   "metadata": {},
   "source": [
    "Scale between -1 and 1"
   ]
  },
  {
   "cell_type": "code",
   "execution_count": null,
   "metadata": {},
   "outputs": [],
   "source": [
    "minmax_scaler = MinMaxScaler(feature_range=(-1,1))  # scaling important also to later rescale back\n",
    "train_set = minmax_scaler.fit_transform(train_set)\n",
    "test_set = minmax_scaler.transform(test_set)\n",
    "\n",
    "fig, ax = plt.subplots(1,2, figsize=(15,9))\n",
    "fig.suptitle(\"MI BUILDING DATASET\")\n",
    "ax[0].scatter(train_set[:,0], train_set[:,1])\n",
    "ax[0].set_title(\"MI BUILDING - train\")\n",
    "ax[1].scatter(test_set[:,0], test_set[:,1], c='red')\n",
    "ax[1].set_title(\"MI BUILDING - test\")\n",
    "plt.show()"
   ]
  },
  {
   "cell_type": "code",
   "execution_count": null,
   "metadata": {},
   "outputs": [],
   "source": [
    "# set learning parameters\n",
    "epochs = 100\n",
    "batch_size = 64\n",
    "lr = 0.001\n",
    "\n",
    "# prepare dataloaders for both data, useful in pytorch\n",
    "train_loader = DataLoader(\n",
    "    train_set,\n",
    "    batch_size=batch_size,\n",
    "    shuffle=True\n",
    ")\n",
    "test_loader = DataLoader(\n",
    "    test_set,\n",
    "    batch_size=batch_size,\n",
    "    shuffle=False\n",
    ")"
   ]
  },
  {
   "cell_type": "markdown",
   "metadata": {},
   "source": [
    "Train a VAE model on the train data of MI Building"
   ]
  },
  {
   "cell_type": "code",
   "execution_count": null,
   "metadata": {},
   "outputs": [],
   "source": [
    "# prepare model and optimizer\n",
    "model = VAE(in_features=2, latent_dim=10, intermediate_dim=512)\n",
    "optimizer = optim.Adam(model.parameters(), lr=lr)"
   ]
  },
  {
   "cell_type": "code",
   "execution_count": null,
   "metadata": {
    "scrolled": false
   },
   "outputs": [],
   "source": [
    "train_loss = []\n",
    "test_loss = []\n",
    "for epoch in range(epochs):\n",
    "    print(f\"Epoch {epoch+1} of {epochs}\")\n",
    "    train_epoch_loss= fit(model, train_loader, optimizer, train_set, labelled=False)\n",
    "    train_loss.append(train_epoch_loss)\n",
    "    print(f\"Train Loss: {train_epoch_loss[0]:.4f}, {train_epoch_loss[1]:.4f}, {train_epoch_loss[2]:.4f}\")\n",
    "    test_epoch_loss= test(model, test_loader, test_data=test_set, epoch=epoch)\n",
    "    test_loss.append(test_epoch_loss)\n",
    "    print(f\"Test Loss: {test_epoch_loss[2]:.4f}\")\n",
    "plot_loss(test_loss=test_loss, epochs=epochs)"
   ]
  },
  {
   "cell_type": "markdown",
   "metadata": {},
   "source": [
    "Plot both the test (left) and train (right) reconstructions"
   ]
  },
  {
   "cell_type": "code",
   "execution_count": null,
   "metadata": {},
   "outputs": [],
   "source": [
    "# get reconstructions\n",
    "reconstruction_test = get_MI_reconstruction(model, test_loader, test_set)\n",
    "reconstruction_train = get_MI_reconstruction(model, train_loader, train_set)\n",
    "\n",
    "fig, axs = plt.subplots(1,2, figsize=(20,10))\n",
    "\n",
    "for batch in reconstruction_test:\n",
    "    batch = minmax_scaler.inverse_transform(batch.detach())\n",
    "    axs[0].scatter(batch[:,0], batch[:,1])\n",
    "axs[0].set_xlim(0,200)\n",
    "axs[0].set_ylim(0,115)\n",
    "\n",
    "for batch in reconstruction_train:\n",
    "    batch = minmax_scaler.inverse_transform(batch.detach())\n",
    "    axs[1].scatter(batch[:,0], batch[:,1])\n",
    "axs[1].set_xlim(0,200)\n",
    "axs[1].set_ylim(0,115)\n",
    "plt.show()"
   ]
  },
  {
   "cell_type": "markdown",
   "metadata": {},
   "source": [
    "Generate 1000 samples, count how many are inside the box"
   ]
  },
  {
   "cell_type": "code",
   "execution_count": null,
   "metadata": {},
   "outputs": [],
   "source": [
    "num_samples = 1000\n",
    "mu_rec = model.generate_many(num_samples)\n",
    "mu_rec = minmax_scaler.inverse_transform(mu_rec.detach())\n",
    "fig, ax = plt.subplots(1,1)\n",
    "ax.scatter(mu_rec[:,0], mu_rec[:,1])\n",
    "rect = patches.Rectangle((130, 50), 20, 20, linewidth=1, edgecolor='r', facecolor='none')\n",
    "# Add the patch to the Axes\n",
    "ax.add_patch(rect)\n",
    "ax.set_xlim(0,200)\n",
    "ax.set_ylim(0,115)\n",
    "plt.show()\n",
    "print(f\"In the box there are {check_number_in_box(mu_rec, [130,70], [150,50])} people\")"
   ]
  }
 ],
 "metadata": {
  "kernelspec": {
   "display_name": "Python 3",
   "language": "python",
   "name": "python3"
  },
  "language_info": {
   "codemirror_mode": {
    "name": "ipython",
    "version": 3
   },
   "file_extension": ".py",
   "mimetype": "text/x-python",
   "name": "python",
   "nbconvert_exporter": "python",
   "pygments_lexer": "ipython3",
   "version": "3.8.6"
  }
 },
 "nbformat": 4,
 "nbformat_minor": 4
}
