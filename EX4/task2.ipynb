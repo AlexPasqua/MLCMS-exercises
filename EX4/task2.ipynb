{
 "cells": [
  {
   "cell_type": "markdown",
   "metadata": {},
   "source": [
    "# Task 2\n",
    "## Diffusion Maps"
   ]
  },
  {
   "cell_type": "code",
   "execution_count": null,
   "metadata": {},
   "outputs": [],
   "source": [
    "from diffusion_maps import DiffusionMap\n",
    "from diffusion_maps import get_part_one_dataset\n",
    "from pca import *\n",
    "import numpy as np\n",
    "\n",
    "import matplotlib.pyplot as plt\n",
    "from sklearn.datasets import make_swiss_roll"
   ]
  },
  {
   "cell_type": "markdown",
   "metadata": {},
   "source": [
    "#### Task2.1: compute five eigenfunctions $\\phi_l$ associated to the largest eigenvalues $\\lambda_l$ with Diffusion Maps, on a periodic data set with N = 1000 points given by (see exercise sheet, task2)"
   ]
  },
  {
   "cell_type": "code",
   "execution_count": null,
   "metadata": {
    "scrolled": false
   },
   "outputs": [],
   "source": [
    "# task2.1\n",
    "print(\"doing task2.1\")\n",
    "x, t = get_part_one_dataset()\n",
    "visualize = True\n",
    "if visualize:\n",
    "    fig = plt.figure(figsize=(10,10))\n",
    "    ax = fig.add_subplot(projection='3d')\n",
    "    ax.scatter(x[:, 0], x[:, 1], t, c=t)\n",
    "    plt.show()\n",
    "dm = DiffusionMap()\n",
    "phi_l, eps = dm.execute_algorithm(x)\n",
    "if visualize:\n",
    "    for i in range(phi_l.shape[1]):\n",
    "        dm.plot_2D_diffusion_maps_task_one(phi_l[:, i], i, t, eps, lim=0.5)\n",
    "\n",
    "    "
   ]
  },
  {
   "cell_type": "markdown",
   "metadata": {},
   "source": [
    "#### Task2.2: Use the algorithm to obtain the first ten eigenfunctions of the Laplace Beltrami operator on the $\\textit{swiss roll}$ manifold,"
   ]
  },
  {
   "cell_type": "code",
   "execution_count": null,
   "metadata": {
    "scrolled": false
   },
   "outputs": [],
   "source": [
    "# task2.2\n",
    "print(\"doing task2.2\")\n",
    "num_samples = 5000\n",
    "x, t = make_swiss_roll(num_samples)\n",
    "fig = plt.figure(figsize=(10,10))\n",
    "ax = fig.add_subplot(projection='3d')\n",
    "ax.scatter(x[:, 0], x[:, 1], x[:, 2], c=t)\n",
    "plt.show()\n",
    "\n",
    "dm = DiffusionMap()\n",
    "phi_l, eps = dm.execute_algorithm(x, L=10)\n",
    "print(\"algorithm executed\")\n",
    "for i in range(phi_l.shape[1]):\n",
    "    dm.plot_2D_diffusion_maps_task_two(phi_l[:, 1], phi_l[:, i], i, t, eps, lim=0.2)"
   ]
  },
  {
   "cell_type": "markdown",
   "metadata": {},
   "source": [
    "Compute the three principal\n",
    "components of the swiss-roll dataset"
   ]
  },
  {
   "cell_type": "code",
   "execution_count": null,
   "metadata": {},
   "outputs": [],
   "source": [
    "U, S, V = svd(x, center=True)\n",
    "Vt = V.T"
   ]
  },
  {
   "cell_type": "code",
   "execution_count": null,
   "metadata": {},
   "outputs": [],
   "source": [
    "fig = plt.figure(figsize=(10,10))\n",
    "reconstruction = U@S@Vt + np.mean(x)\n",
    "ax = fig.add_subplot(projection='3d')\n",
    "ax.scatter(reconstruction[:, 0], reconstruction[:, 1], reconstruction[:, 2], c=t)\n",
    "plt.show()"
   ]
  },
  {
   "cell_type": "code",
   "execution_count": null,
   "metadata": {},
   "outputs": [],
   "source": [
    "singular_values = np.diagonal(S)\n",
    "energy_3 = np.sum(np.square(singular_values[:3])) / np.sum(np.square(singular_values))\n",
    "energy_2 = np.sum(np.square(singular_values[:2])) / np.sum(np.square(singular_values))\n",
    "energy_1 = np.sum(np.square(singular_values[:1])) / np.sum(np.square(singular_values))\n",
    "energy_3, energy_2, energy_1"
   ]
  },
  {
   "cell_type": "code",
   "execution_count": null,
   "metadata": {},
   "outputs": [],
   "source": [
    "fig = plt.figure(figsize=[10,10])\n",
    "new_S = S.copy()\n",
    "new_S[2,2] = 0\n",
    "reconstruction = U@new_S@Vt + np.mean(x)\n",
    "ax = fig.add_subplot(projection='3d')\n",
    "ax.scatter(reconstruction[:, 0], reconstruction[:, 1], reconstruction[:, 2], c=t)\n",
    "plt.show()"
   ]
  },
  {
   "cell_type": "markdown",
   "metadata": {},
   "source": [
    "What happens if only 1000 data points are used?"
   ]
  },
  {
   "cell_type": "code",
   "execution_count": null,
   "metadata": {
    "scrolled": false
   },
   "outputs": [],
   "source": [
    "# task2.2\n",
    "print(\"doing task2.2\")\n",
    "num_samples = 1000\n",
    "x, t = make_swiss_roll(num_samples)\n",
    "fig = plt.figure(figsize=(10,10))\n",
    "ax = fig.add_subplot(projection='3d')\n",
    "ax.scatter(x[:, 0], x[:, 1], x[:, 2], c=t)\n",
    "plt.show()\n",
    "\n",
    "dm = DiffusionMap()\n",
    "phi_l, eps = dm.execute_algorithm(x, L=10)\n",
    "print(\"algorithm executed\")\n",
    "for i in range(phi_l.shape[1]):\n",
    "    dm.plot_2D_diffusion_maps_task_two(phi_l[:, 1], phi_l[:, i], i, t, eps, lim=0.2)"
   ]
  },
  {
   "cell_type": "code",
   "execution_count": null,
   "metadata": {},
   "outputs": [],
   "source": [
    "U, S, V = svd(x, center=True)\n",
    "Vt = V.T\n",
    "fig = plt.figure()\n",
    "reconstruction = U@S@Vt + np.mean(x)\n",
    "ax = fig.add_subplot(projection='3d')\n",
    "ax.scatter(reconstruction[:, 0], reconstruction[:, 1], reconstruction[:, 2], c=t)\n",
    "plt.show()\n",
    "singular_values = np.diagonal(S)\n",
    "energy_3 = np.sum(np.square(singular_values[:3])) / np.sum(np.square(singular_values))\n",
    "energy_2 = np.sum(np.square(singular_values[:2])) / np.sum(np.square(singular_values))\n",
    "energy_1 = np.sum(np.square(singular_values[:1])) / np.sum(np.square(singular_values))\n",
    "energy_3, energy_2, energy_1"
   ]
  },
  {
   "cell_type": "code",
   "execution_count": null,
   "metadata": {},
   "outputs": [],
   "source": [
    "fig = plt.figure()\n",
    "new_S = S.copy()\n",
    "new_S[2,2] = 0\n",
    "reconstruction = U@new_S@Vt + np.mean(x)\n",
    "ax = fig.add_subplot(projection='3d')\n",
    "ax.scatter(reconstruction[:, 0], reconstruction[:, 1], reconstruction[:, 2], c=t)\n",
    "plt.show()"
   ]
  },
  {
   "cell_type": "markdown",
   "metadata": {},
   "source": [
    "Analyze the data set by projecting the 30-dimensional data points (one in each row of the file) to the first\n",
    "two principal components."
   ]
  },
  {
   "cell_type": "code",
   "execution_count": null,
   "metadata": {},
   "outputs": [],
   "source": [
    "# read the trajectories data\n",
    "trajs = pd.read_csv(\"data/data_DMAP_PCA_vadere.txt\", header=None, sep=\" \")\n",
    "trajs.head()"
   ]
  },
  {
   "cell_type": "code",
   "execution_count": null,
   "metadata": {},
   "outputs": [],
   "source": [
    "# save the trajectories of the first 2 pedestrians in 2 apposite dataframes\n",
    "ped1 = trajs.loc[:, 0:1].to_numpy()\n",
    "ped2 = trajs.loc[:, 2:3].to_numpy()\n",
    "\n",
    "# plot the trajectories\n",
    "plot_2_trajectories(ped1, ped2)"
   ]
  },
  {
   "cell_type": "code",
   "execution_count": null,
   "metadata": {
    "scrolled": false
   },
   "outputs": [],
   "source": [
    "dm = DiffusionMap()\n",
    "phi_l, eps = dm.execute_algorithm(trajs, L=10)\n",
    "print(\"algorithm executed\")\n",
    "for i in range(1, phi_l.shape[1] - 1):\n",
    "    dm.plot_3D_diffusion_maps_task_three(phi_l[:, i-1], phi_l[:, i], phi_l[:, i+1], i-1, i, i+1, range(phi_l.shape[0]), eps, lim=0.1)\n",
    "dm.plot_3D_diffusion_maps_task_three(phi_l[:, 1], phi_l[:, 2], phi_l[:, 4], 1, 2, 4, range(phi_l.shape[0]), eps, lim=0.1)\n",
    "for i in range(phi_l.shape[1]):\n",
    "    dm.plot_2D_diffusion_maps_task_two(phi_l[:, 1], phi_l[:, i], i, t, eps, lim=0.1)"
   ]
  },
  {
   "cell_type": "markdown",
   "metadata": {},
   "source": [
    "### BONUS! USING DATAFOLD FOR CALCULATING DIFFUSION MAPS IN SWISS ROLL DATASET"
   ]
  },
  {
   "cell_type": "code",
   "execution_count": null,
   "metadata": {},
   "outputs": [],
   "source": [
    "import datafold.dynfold as dfold\n",
    "import datafold.pcfold as pfold\n",
    "from datafold.dynfold import LocalRegressionSelection\n",
    "from datafold.utils.plot import plot_pairwise_eigenvector"
   ]
  },
  {
   "cell_type": "code",
   "execution_count": null,
   "metadata": {},
   "outputs": [],
   "source": [
    "nr_samples = 15000\n",
    "\n",
    "# reduce number of points for plotting\n",
    "nr_samples_plot = 5000\n",
    "idx_plot = np.random.permutation(nr_samples)[0:nr_samples_plot]\n",
    "\n",
    "# generate point cloud\n",
    "X, X_color = make_swiss_roll(nr_samples, random_state=0, noise=0)\n",
    "\n",
    "# plot\n",
    "fig = plt.figure(figsize=(10, 10))\n",
    "ax = fig.add_subplot(111, projection=\"3d\")\n",
    "ax.scatter(\n",
    "    X[idx_plot, 0],\n",
    "    X[idx_plot, 1],\n",
    "    X[idx_plot, 2],\n",
    "    c=X_color[idx_plot],\n",
    "    cmap=plt.cm.Spectral,\n",
    ")\n",
    "ax.set_xlabel(\"x\")\n",
    "ax.set_ylabel(\"y\")\n",
    "ax.set_zlabel(\"z\")\n",
    "ax.set_title(\"point cloud on S-shaped manifold\")\n",
    "ax.view_init(10, 70)"
   ]
  },
  {
   "cell_type": "code",
   "execution_count": null,
   "metadata": {},
   "outputs": [],
   "source": [
    "X_pcm = pfold.PCManifold(X)\n",
    "X_pcm.optimize_parameters()\n",
    "\n",
    "print(f\"epsilon={X_pcm.kernel.epsilon}, cut-off={X_pcm.cut_off}\")"
   ]
  },
  {
   "cell_type": "code",
   "execution_count": null,
   "metadata": {},
   "outputs": [],
   "source": [
    "dmap = dfold.DiffusionMaps(\n",
    "    kernel=pfold.GaussianKernel(epsilon=X_pcm.kernel.epsilon),\n",
    "    n_eigenpairs=9,\n",
    "    dist_kwargs=dict(cut_off=X_pcm.cut_off),\n",
    ")\n",
    "dmap = dmap.fit(X_pcm)\n",
    "evecs, evals = dmap.eigenvectors_, dmap.eigenvalues_\n",
    "\n",
    "plot_pairwise_eigenvector(\n",
    "    eigenvectors=dmap.eigenvectors_[idx_plot, :],\n",
    "    n=1,\n",
    "    fig_params=dict(figsize=[15, 15]),\n",
    "    scatter_params=dict(cmap=plt.cm.Spectral, c=X_color[idx_plot]),\n",
    ")"
   ]
  },
  {
   "cell_type": "code",
   "execution_count": null,
   "metadata": {},
   "outputs": [],
   "source": [
    "selection = LocalRegressionSelection(\n",
    "    intrinsic_dim=2, n_subsample=500, strategy=\"dim\"\n",
    ").fit(dmap.eigenvectors_)\n",
    "print(f\"Found parsimonious eigenvectors (indices): {selection.evec_indices_}\")"
   ]
  },
  {
   "cell_type": "code",
   "execution_count": null,
   "metadata": {
    "scrolled": true
   },
   "outputs": [],
   "source": [
    "target_mapping = selection.transform(dmap.eigenvectors_)\n",
    "\n",
    "f, ax = plt.subplots(figsize=(15, 9))\n",
    "ax.scatter(\n",
    "    target_mapping[idx_plot, 0],\n",
    "    target_mapping[idx_plot, 1],\n",
    "    c=X_color[idx_plot],\n",
    "    cmap=plt.cm.Spectral,\n",
    ");"
   ]
  },
  {
   "cell_type": "code",
   "execution_count": null,
   "metadata": {},
   "outputs": [],
   "source": [
    "t_pcm = pfold.PCManifold(trajs)\n",
    "t_pcm.optimize_parameters()\n",
    "\n",
    "print(f\"epsilon={t_pcm.kernel.epsilon}, cut-off={t_pcm.cut_off}\")"
   ]
  },
  {
   "cell_type": "code",
   "execution_count": null,
   "metadata": {},
   "outputs": [],
   "source": [
    "idx_plot_2 = 999\n",
    "dmap_2 = dfold.DiffusionMaps(\n",
    "    kernel=pfold.GaussianKernel(epsilon=t_pcm.kernel.epsilon),\n",
    "    n_eigenpairs=9,\n",
    "    dist_kwargs=dict(cut_off=t_pcm.cut_off),\n",
    ")\n",
    "dmap_2 = dmap_2.fit(t_pcm)\n",
    "evecs_2, evals_2 = dmap_2.eigenvectors_, dmap_2.eigenvalues_\n",
    "print(dmap_2.eigenvectors_.shape)\n",
    "plot_pairwise_eigenvector(\n",
    "    eigenvectors=dmap_2.eigenvectors_[:, :],\n",
    "    n=1,\n",
    "    fig_params=dict(figsize=[15, 15]),\n",
    "    scatter_params=dict(cmap=plt.cm.Spectral, c=range(len(trajs))),\n",
    ")"
   ]
  },
  {
   "cell_type": "code",
   "execution_count": null,
   "metadata": {},
   "outputs": [],
   "source": [
    "selection = LocalRegressionSelection(\n",
    "    intrinsic_dim=2, n_subsample=500, strategy=\"dim\"\n",
    ").fit(dmap_2.eigenvectors_)\n",
    "print(f\"Found parsimonious eigenvectors (indices): {selection.evec_indices_}\")\n",
    "selection.residuals_"
   ]
  }
 ],
 "metadata": {
  "kernelspec": {
   "display_name": "Python 3",
   "language": "python",
   "name": "python3"
  },
  "language_info": {
   "codemirror_mode": {
    "name": "ipython",
    "version": 3
   },
   "file_extension": ".py",
   "mimetype": "text/x-python",
   "name": "python",
   "nbconvert_exporter": "python",
   "pygments_lexer": "ipython3",
   "version": "3.8.6"
  }
 },
 "nbformat": 4,
 "nbformat_minor": 4
}
