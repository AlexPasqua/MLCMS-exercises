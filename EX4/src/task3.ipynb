{
 "cells": [
  {
   "cell_type": "markdown",
   "metadata": {},
   "source": [
    "# VARIATIONAL AUTOENCODER"
   ]
  },
  {
   "cell_type": "markdown",
   "metadata": {},
   "source": [
    "Right now the setup is executing the alternative way, with the log likelihood mathematically hardcoded in the loss function, to revert to CrossEntropy follow the comments starting with !!! "
   ]
  },
  {
   "cell_type": "code",
   "execution_count": null,
   "metadata": {},
   "outputs": [],
   "source": [
    "from torch.utils.data import DataLoader\n",
    "import torch.optim as optim\n",
    "from torchvision import datasets\n",
    "import torchvision.transforms as transforms\n",
    "\n",
    "import vae\n",
    "from vae_utils import *"
   ]
  },
  {
   "cell_type": "code",
   "execution_count": null,
   "metadata": {},
   "outputs": [],
   "source": [
    "# set learning parameters\n",
    "epochs = 100\n",
    "batch_size = 128\n",
    "lr = 0.001"
   ]
  },
  {
   "cell_type": "code",
   "execution_count": null,
   "metadata": {
    "scrolled": true
   },
   "outputs": [],
   "source": [
    "# prepare the data, divided in train and test (no validation)\n",
    "train_data = datasets.MNIST(\n",
    "    root='../input/data',\n",
    "    train=True,\n",
    "    download=True,\n",
    "    transform=transforms.Compose([\n",
    "        transforms.ToTensor(),\n",
    "        transforms.Normalize(\n",
    "        (0,), (1,))\n",
    "    ])  # data is otherwise an image in wrong format and not normalized\n",
    ")\n",
    "\n",
    "test_data = datasets.MNIST(\n",
    "    root='../input/data',\n",
    "    train=False,\n",
    "    download=True,\n",
    "    transform=transforms.Compose([\n",
    "        transforms.ToTensor(),\n",
    "        transforms.Normalize(\n",
    "        (0,), (1,))\n",
    "    ])\n",
    ")\n",
    "\n",
    "# prepare dataloaders for both data, useful in pytorch\n",
    "train_loader = DataLoader(\n",
    "    train_data,\n",
    "    batch_size=batch_size,\n",
    "    shuffle=True\n",
    ")\n",
    "test_loader = DataLoader(\n",
    "    test_data,\n",
    "    batch_size=batch_size,\n",
    "    shuffle=False\n",
    ")"
   ]
  },
  {
   "cell_type": "markdown",
   "metadata": {},
   "source": [
    "Execute asked tasks with latent_dim = 2"
   ]
  },
  {
   "cell_type": "code",
   "execution_count": null,
   "metadata": {},
   "outputs": [],
   "source": [
    "# prepare model and optimizer\n",
    "model = vae.VAE(latent_dim=2) # !!! put use_BCE_loss to True if want to do standard\n",
    "optimizer = optim.Adam(model.parameters(), lr=lr)"
   ]
  },
  {
   "cell_type": "code",
   "execution_count": null,
   "metadata": {
    "scrolled": true
   },
   "outputs": [],
   "source": [
    "train_loss = []\n",
    "test_loss = []\n",
    "for epoch in range(epochs):\n",
    "    print(f\"Epoch {epoch+1} of {epochs}\")\n",
    "    train_epoch_loss = fit(model, train_loader, optimizer, train_data)  # !!! use fit instead of fit_alternative for standard\n",
    "    train_loss.append(train_epoch_loss)\n",
    "    print(f\"Train Loss: {train_epoch_loss[0]:.4f}, {train_epoch_loss[1]:.4f}, {train_epoch_loss[2]:.4f}\")\n",
    "    plot_reconstructed_digits(model, epoch=epoch, save=True)\n",
    "    test_epoch_loss = test(model, test_loader, test_data=test_data, epoch=epoch, save=True, labelled=True)  # !!! use test instead of test_alternative\n",
    "    test_loss.append(test_epoch_loss)\n",
    "    print(f\"Test Loss: {test_epoch_loss[2]:.4f}\")\n",
    "    num_samples = 15\n",
    "    generated_digits = model.generate_many(num_samples=num_samples)\n",
    "    save_image(generated_digits.view(num_samples, 1, 28, 28), f\"../outputs/generated/generated{epoch}.png\", nrow=num_samples)\n",
    "plot_loss(train_loss, test_loss, epochs)"
   ]
  },
  {
   "cell_type": "markdown",
   "metadata": {},
   "source": [
    "Execute asked tasks with latent_dim = 32"
   ]
  },
  {
   "cell_type": "code",
   "execution_count": null,
   "metadata": {},
   "outputs": [],
   "source": [
    "# prepare model and optimizer\n",
    "model = vae.VAE(latent_dim=32, use_BCE_loss=False)\n",
    "optimizer = optim.Adam(model.parameters(), lr=lr)"
   ]
  },
  {
   "cell_type": "code",
   "execution_count": null,
   "metadata": {
    "scrolled": false
   },
   "outputs": [],
   "source": [
    "train_loss = []\n",
    "test_loss = []\n",
    "for epoch in range(epochs):\n",
    "    print(f\"Epoch {epoch+1} of {epochs}\")\n",
    "    train_epoch_loss = fit_alternative(model, train_loader, optimizer, train_data) # !!! use fit instead of fit_alternative\n",
    "    train_loss.append(train_epoch_loss)\n",
    "    print(f\"Train Loss: {train_epoch_loss[0]:.4f}, {train_epoch_loss[1]:.4f}, {train_epoch_loss[2]:.4f}\")\n",
    "    plot_reconstructed_digits(model, epoch=epoch, save=True)\n",
    "    test_epoch_loss = test_alternative(model, test_loader, test_data=test_data, epoch=epoch, save=True, labelled=True) # !!! use test instead of test_alternative\n",
    "    test_loss.append(test_epoch_loss)\n",
    "    print(f\"Test Loss: {test_epoch_loss[2]:.4f}\")\n",
    "    num_samples = 15\n",
    "    generated_digits = model.generate_many(num_samples=num_samples)\n",
    "    save_image(generated_digits.view(num_samples, 1, 28, 28), f\"../outputs/generated/generated{epoch}.png\", nrow=num_samples)\n",
    "plot_loss(train_loss, test_loss, epochs)\n"
   ]
  }
 ],
 "metadata": {
  "kernelspec": {
   "display_name": "Python 3",
   "language": "python",
   "name": "python3"
  },
  "language_info": {
   "codemirror_mode": {
    "name": "ipython",
    "version": 3
   },
   "file_extension": ".py",
   "mimetype": "text/x-python",
   "name": "python",
   "nbconvert_exporter": "python",
   "pygments_lexer": "ipython3",
   "version": "3.8.6"
  }
 },
 "nbformat": 4,
 "nbformat_minor": 4
}