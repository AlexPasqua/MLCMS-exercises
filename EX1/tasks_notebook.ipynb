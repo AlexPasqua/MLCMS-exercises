{
 "cells": [
  {
   "cell_type": "markdown",
   "metadata": {},
   "source": [
    "# MACHINE LEARNING FOR CROWD MODELLING AND SIMULATION"
   ]
  },
  {
   "cell_type": "code",
   "execution_count": 1,
   "metadata": {},
   "outputs": [],
   "source": [
    "from tkinter import *\n",
    "from utils import *"
   ]
  },
  {
   "cell_type": "markdown",
   "metadata": {},
   "source": [
    "## TASK 1\n",
    "\n",
    "Setting up the model environment: by executing the snippet below it is possible to view the modelling environment, add pedestrians in cells as well as targets and obstacles. It is possible to move pedestrians:\n",
    "    - put a pedestrian (or more!) in the scenario\n",
    "    - click on Free Walk\n",
    "    - move the pedestrian with WASD or key arrows"
   ]
  },
  {
   "cell_type": "code",
   "execution_count": 2,
   "metadata": {},
   "outputs": [
    {
     "name": "stdout",
     "output_type": "stream",
     "text": [
      "Entering movement mode..\n"
     ]
    }
   ],
   "source": [
    "app = Tk()\n",
    "setup_task_1(app)\n",
    "app.mainloop()"
   ]
  },
  {
   "cell_type": "markdown",
   "metadata": {},
   "source": [
    "## TASK 2\n",
    "\n",
    "First step of a single pedestrian: define a scenario of 50 by 50, start a single pedestrian at position (5,25) and a target at (25,25). Simulate the scenario."
   ]
  },
  {
   "cell_type": "code",
   "execution_count": 2,
   "metadata": {
    "scrolled": true
   },
   "outputs": [
    {
     "name": "stdout",
     "output_type": "stream",
     "text": [
      "Entering simulation mode..\n",
      "Pedestrian reached target in: 20.0 with a speed of: 1.0 (expected speed was:  1.0 )\n"
     ]
    }
   ],
   "source": [
    "app = Tk()\n",
    "setup_task_2(app)\n",
    "app.mainloop()"
   ]
  },
  {
   "cell_type": "markdown",
   "metadata": {},
   "source": [
    "## TASK 3\n",
    "\n",
    "Interaction of pedestrians: define a scenario where 5 pedestrians move to a target starting from roughly the same distance, proving the correctness of the implementation by showing how they take the same time to arrive"
   ]
  },
  {
   "cell_type": "code",
   "execution_count": 4,
   "metadata": {
    "scrolled": true
   },
   "outputs": [
    {
     "name": "stdout",
     "output_type": "stream",
     "text": [
      "Entering simulation mode..\n"
     ]
    },
    {
     "name": "stderr",
     "output_type": "stream",
     "text": [
      "Exception in Tkinter callback\n",
      "Traceback (most recent call last):\n",
      "  File \"c:\\users\\asus\\appdata\\local\\programs\\python\\python38\\lib\\tkinter\\__init__.py\", line 1883, in __call__\n",
      "    return self.func(*args)\n",
      "  File \"D:\\UniPi\\erasmus\\courses\\MLCS\\MLCMS-exercises\\EX1\\grid.py\", line 315, in start_simulation\n",
      "    self.update()  # graphical update of the grid\n",
      "  File \"c:\\users\\asus\\appdata\\local\\programs\\python\\python38\\lib\\tkinter\\__init__.py\", line 1305, in update\n",
      "    self.tk.call('update')\n",
      "_tkinter.TclError: can't invoke \"update\" command: application has been destroyed\n"
     ]
    }
   ],
   "source": [
    "app = Tk()\n",
    "setup_task_3(app)\n",
    "app.mainloop()"
   ]
  },
  {
   "cell_type": "markdown",
   "metadata": {
    "pycharm": {
     "name": "#%% md\n"
    }
   },
   "source": [
    "## TASK 4\n",
    "\n",
    "Obstacle avoidance:\n",
    "1. Rudimentary obstacle avoidance: pedestrians simply don't step on other pedestrians and obstacles\n",
    "2. Dijkstra's algorithm: each pedestrian finds the actual best path to reach a destination\n",
    "\n",
    "Try to execute the next cell either checking or not the Dijkstra checkbox.\n",
    "If Dijkstra is enabled, the pedestrian will be able to overcome the chicken test,\n",
    "otherwise it will be stuck in the trap."
   ]
  },
  {
   "cell_type": "code",
   "execution_count": 6,
   "metadata": {
    "pycharm": {
     "name": "#%%\n"
    }
   },
   "outputs": [
    {
     "name": "stdout",
     "output_type": "stream",
     "text": [
      "Entering simulation mode..\n",
      "Pedestrian reached target in: 9.6 with a speed of: 1.0 (expected speed was:  1.0 )\n",
      "Entering movement mode..\n"
     ]
    }
   ],
   "source": [
    "app = Tk()\n",
    "setup_task_4(app)\n",
    "app.mainloop()\n"
   ]
  },
  {
   "cell_type": "markdown",
   "metadata": {
    "pycharm": {
     "name": "#%% md\n"
    }
   },
   "source": [
    "## TASK 5\n",
    "\n",
    "RiMEA scenario 1:"
   ]
  },
  {
   "cell_type": "code",
   "execution_count": null,
   "metadata": {
    "pycharm": {
     "name": "#%%\n"
    }
   },
   "outputs": [],
   "source": [
    "rimea_test_1()"
   ]
  },
  {
   "cell_type": "markdown",
   "metadata": {
    "pycharm": {
     "name": "#%% md\n"
    }
   },
   "source": [
    "RiMEA scenario 4:"
   ]
  },
  {
   "cell_type": "code",
   "execution_count": null,
   "metadata": {
    "pycharm": {
     "name": "#%%\n"
    }
   },
   "outputs": [],
   "source": [
    "rimea_test_4()"
   ]
  },
  {
   "cell_type": "markdown",
   "metadata": {
    "pycharm": {
     "name": "#%% md\n"
    }
   },
   "source": [
    "RiMEA scenario 6:"
   ]
  },
  {
   "cell_type": "code",
   "execution_count": 4,
   "metadata": {
    "pycharm": {
     "name": "#%%\n"
    }
   },
   "outputs": [
    {
     "name": "stdout",
     "output_type": "stream",
     "text": [
      "Entering simulation mode..\n"
     ]
    },
    {
     "name": "stderr",
     "output_type": "stream",
     "text": [
      "Exception in Tkinter callback\n",
      "Traceback (most recent call last):\n",
      "  File \"C:\\Program Files\\WindowsApps\\PythonSoftwareFoundation.Python.3.8_3.8.2800.0_x64__qbz5n2kfra8p0\\lib\\tkinter\\__init__.py\", line 1892, in __call__\n",
      "    return self.func(*args)\n",
      "  File \"D:\\projects\\MLCMS-exercises\\EX1\\grid.py\", line 300, in start_simulation\n",
      "    pedestrian.update_cost_function(planning_grid, dijkstra=activate_dijkstra)  # update local cost_matrix\n",
      "  File \"D:\\projects\\MLCMS-exercises\\EX1\\pedestrian.py\", line 88, in update_cost_function\n",
      "    table = table.append(table_row, ignore_index=True)\n",
      "  File \"d:\\projects\\mlcms-exercises\\venv\\lib\\site-packages\\pandas\\core\\frame.py\", line 8943, in append\n",
      "    other.reindex(combined_columns, copy=False)\n",
      "  File \"d:\\projects\\mlcms-exercises\\venv\\lib\\site-packages\\pandas\\core\\frame.py\", line 3361, in T\n",
      "    return self.transpose()\n",
      "  File \"d:\\projects\\mlcms-exercises\\venv\\lib\\site-packages\\pandas\\core\\frame.py\", line 3336, in transpose\n",
      "    result = self._constructor(new_vals, index=self.columns, columns=self.index)\n",
      "  File \"d:\\projects\\mlcms-exercises\\venv\\lib\\site-packages\\pandas\\core\\frame.py\", line 672, in __init__\n",
      "    mgr = ndarray_to_mgr(\n",
      "  File \"d:\\projects\\mlcms-exercises\\venv\\lib\\site-packages\\pandas\\core\\internals\\construction.py\", line 375, in ndarray_to_mgr\n",
      "    return create_block_manager_from_blocks(block_values, [columns, index])\n",
      "  File \"d:\\projects\\mlcms-exercises\\venv\\lib\\site-packages\\pandas\\core\\internals\\managers.py\", line 1751, in create_block_manager_from_blocks\n",
      "    mgr._consolidate_inplace()\n",
      "  File \"d:\\projects\\mlcms-exercises\\venv\\lib\\site-packages\\pandas\\core\\internals\\managers.py\", line 624, in _consolidate_inplace\n",
      "    self.blocks = tuple(_consolidate(self.blocks))\n",
      "  File \"d:\\projects\\mlcms-exercises\\venv\\lib\\site-packages\\pandas\\core\\internals\\managers.py\", line 1974, in _consolidate\n",
      "    merged_blocks = _merge_blocks(\n",
      "  File \"d:\\projects\\mlcms-exercises\\venv\\lib\\site-packages\\pandas\\core\\internals\\managers.py\", line 1992, in _merge_blocks\n",
      "    new_mgr_locs = np.concatenate([b.mgr_locs.as_array for b in blocks])\n",
      "  File \"<__array_function__ internals>\", line 5, in concatenate\n",
      "KeyboardInterrupt\n"
     ]
    }
   ],
   "source": [
    "rimea_test_6()"
   ]
  },
  {
   "cell_type": "markdown",
   "metadata": {
    "pycharm": {
     "name": "#%% md\n"
    }
   },
   "source": [
    "RiMEA scenario 7:"
   ]
  },
  {
   "cell_type": "code",
   "execution_count": null,
   "metadata": {
    "pycharm": {
     "name": "#%%\n"
    }
   },
   "outputs": [],
   "source": [
    "rimea_test_7()\n"
   ]
  }
 ],
 "metadata": {
  "kernelspec": {
   "display_name": "Python 3",
   "language": "python",
   "name": "python3"
  },
  "language_info": {
   "codemirror_mode": {
    "name": "ipython",
    "version": 3
   },
   "file_extension": ".py",
   "mimetype": "text/x-python",
   "name": "python",
   "nbconvert_exporter": "python",
   "pygments_lexer": "ipython3",
   "version": "3.8.6"
  }
 },
 "nbformat": 4,
 "nbformat_minor": 4
}