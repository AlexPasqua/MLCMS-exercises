{
 "cells": [
  {
   "cell_type": "markdown",
   "metadata": {},
   "source": [
    "# MACHINE LEARNING FOR CROWD MODELLING AND SIMULATION"
   ]
  },
  {
   "cell_type": "code",
   "execution_count": 1,
   "metadata": {},
   "outputs": [],
   "source": [
    "from tkinter import *\n",
    "from grid import CellGrid"
   ]
  },
  {
   "cell_type": "code",
   "execution_count": 4,
   "metadata": {},
   "outputs": [],
   "source": [
    "# helpful functions to keep code clean below\n",
    "def set_person(grid, row, col):\n",
    "    grid.draw_person()\n",
    "    cell = grid.grid[row][col]\n",
    "    cell.switch()\n",
    "    cell.draw(grid.FILLED_COLOR_BG, grid.FILLED_COLOR_BORDER)\n",
    "    \n",
    "def set_target(grid, row, col):\n",
    "    grid.draw_target()\n",
    "    cell = grid.grid[row][col]\n",
    "    cell.switch()\n",
    "    cell.draw(grid.FILLED_COLOR_BG, grid.FILLED_COLOR_BORDER)\n",
    "\n",
    "def setup_task_1(app):\n",
    "    grid = CellGrid(app, 50, 10)\n",
    "    grid.pack()\n",
    "    grid.focus_set()  # to receive inputs form keyboard\n",
    "    \n",
    "def setup_task_2(app):\n",
    "    grid = CellGrid(app, 50, 10)\n",
    "    grid.pack()\n",
    "    grid.focus_set()  # to receive inputs form keyboard\n",
    "    # draw person at (5,25)\n",
    "    set_person(grid, 4, 24)\n",
    "    # draw target at (25,25)\n",
    "    set_target(grid,24,24)\n",
    "    \n",
    "def setup_task_3(app):\n",
    "    grid = CellGrid(app, 50, 10)\n",
    "    grid.pack()\n",
    "    grid.focus_set()  # to receive inputs form keyboard\n",
    "    # draw person at (10,10)\n",
    "    set_person(grid,9,9)\n",
    "    # draw person at (4,25)\n",
    "    set_person(grid,3,24)\n",
    "    # draw person at (46,25)\n",
    "    set_person(grid,45,24)\n",
    "    # draw person at (25,46)\n",
    "    set_person(grid,24,45)\n",
    "    # draw person at (20,6)\n",
    "    set_person(grid,19,5)\n",
    "    # draw target at (25,25)\n",
    "    set_target(grid,24,24)\n",
    "    "
   ]
  },
  {
   "cell_type": "markdown",
   "metadata": {},
   "source": [
    "## TASK 1"
   ]
  },
  {
   "cell_type": "markdown",
   "metadata": {},
   "source": [
    "Setting up the model environment: by executing the snippet below it is possible to view the modelling environment, add pedestrians in cells as well as targets and obstacles. It is possible to move pedestrians:\n",
    "\n",
    "    - put a pedestrian (or more!) in the scenario\n",
    "    - click on Free Walk\n",
    "    - move the pedestrian with WASD or key arrows"
   ]
  },
  {
   "cell_type": "code",
   "execution_count": 3,
   "metadata": {},
   "outputs": [
    {
     "name": "stdout",
     "output_type": "stream",
     "text": [
      "Entering movement mode..\n"
     ]
    }
   ],
   "source": [
    "app = Tk()\n",
    "setup_task_1(app)\n",
    "app.mainloop()"
   ]
  },
  {
   "cell_type": "markdown",
   "metadata": {},
   "source": [
    "## TASK 2"
   ]
  },
  {
   "cell_type": "markdown",
   "metadata": {},
   "source": [
    "First step of a single pedestrian: define a scenario of 50 by 50, start a single pedestrian at position (5,25) and a target at (25,25). Simulate the scenario."
   ]
  },
  {
   "cell_type": "code",
   "execution_count": 4,
   "metadata": {
    "scrolled": true
   },
   "outputs": [
    {
     "name": "stdout",
     "output_type": "stream",
     "text": [
      "Entering simulation mode..\n",
      "Pedestrian reached target in: 19.99999999999996\n"
     ]
    }
   ],
   "source": [
    "app = Tk()\n",
    "setup_task_2(app)\n",
    "app.mainloop()"
   ]
  },
  {
   "cell_type": "markdown",
   "metadata": {},
   "source": [
    "## TASK 3"
   ]
  },
  {
   "cell_type": "markdown",
   "metadata": {},
   "source": [
    "Interaction of pedestrians: define a scenario where 5 pedestrians move to a target starting from roughly the same distance, proving the correctness of the implementation by showing how they take the same time to arrive"
   ]
  },
  {
   "cell_type": "code",
   "execution_count": 6,
   "metadata": {
    "scrolled": true
   },
   "outputs": [
    {
     "name": "stdout",
     "output_type": "stream",
     "text": [
      "Entering simulation mode..\n",
      "Pedestrian reached target in: 21.00000000000003 with a speed of: 0.9999999999999984 (expected speed was:  1.0 )\n",
      "Pedestrian reached target in: 21.00000000000003 with a speed of: 0.9999999999999987 (expected speed was:  1.0 )\n",
      "Pedestrian reached target in: 21.00000000000003 with a speed of: 0.9999999999999987 (expected speed was:  1.0 )\n",
      "Pedestrian reached target in: 21.00000000000003 with a speed of: 0.9999999999999987 (expected speed was:  1.0 )\n",
      "Pedestrian reached target in: 21.00000000000003 with a speed of: 0.9999999999999987 (expected speed was:  1.0 )\n"
     ]
    }
   ],
   "source": [
    "app = Tk()\n",
    "setup_task_3(app)\n",
    "app.mainloop()"
   ]
  }
 ],
 "metadata": {
  "kernelspec": {
   "display_name": "Python 3",
   "language": "python",
   "name": "python3"
  },
  "language_info": {
   "codemirror_mode": {
    "name": "ipython",
    "version": 3
   },
   "file_extension": ".py",
   "mimetype": "text/x-python",
   "name": "python",
   "nbconvert_exporter": "python",
   "pygments_lexer": "ipython3",
   "version": "3.8.6"
  }
 },
 "nbformat": 4,
 "nbformat_minor": 4
}