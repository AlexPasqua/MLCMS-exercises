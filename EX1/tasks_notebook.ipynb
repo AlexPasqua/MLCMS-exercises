{
 "cells": [
  {
   "cell_type": "markdown",
   "metadata": {},
   "source": [
    "# MACHINE LEARNING FOR CROWD MODELLING AND SIMULATION"
   ]
  },
  {
   "cell_type": "code",
   "execution_count": 1,
   "metadata": {},
   "outputs": [],
   "source": [
    "from tkinter import *\n",
    "from utils import *\n",
    "\n",
    "\n",
    "    "
   ]
  },
  {
   "cell_type": "markdown",
   "metadata": {},
   "source": [
    "## TASK 1"
   ]
  },
  {
   "cell_type": "markdown",
   "metadata": {},
   "source": [
    "Setting up the model environment: by executing the snippet below it is possible to view the modelling environment, add pedestrians in cells as well as targets and obstacles. It is possible to move pedestrians:\n",
    "\n",
    "    - put a pedestrian (or more!) in the scenario\n",
    "    - click on Free Walk\n",
    "    - move the pedestrian with WASD or key arrows"
   ]
  },
  {
   "cell_type": "code",
   "execution_count": 2,
   "metadata": {},
   "outputs": [],
   "source": [
    "app = Tk()\n",
    "setup_task_1(app)\n",
    "app.mainloop()"
   ]
  },
  {
   "cell_type": "markdown",
   "metadata": {},
   "source": [
    "## TASK 2"
   ]
  },
  {
   "cell_type": "markdown",
   "metadata": {},
   "source": [
    "First step of a single pedestrian: define a scenario of 50 by 50, start a single pedestrian at position (5,25) and a target at (25,25). Simulate the scenario."
   ]
  },
  {
   "cell_type": "code",
   "execution_count": 3,
   "metadata": {
    "scrolled": true
   },
   "outputs": [],
   "source": [
    "app = Tk()\n",
    "setup_task_2(app)\n",
    "app.mainloop()"
   ]
  },
  {
   "cell_type": "markdown",
   "metadata": {},
   "source": [
    "## TASK 3"
   ]
  },
  {
   "cell_type": "markdown",
   "metadata": {},
   "source": [
    "Interaction of pedestrians: define a scenario where 5 pedestrians move to a target starting from roughly the same distance, proving the correctness of the implementation by showing how they take the same time to arrive"
   ]
  },
  {
   "cell_type": "code",
   "execution_count": 6,
   "metadata": {
    "scrolled": true
   },
   "outputs": [
    {
     "name": "stdout",
     "output_type": "stream",
     "text": [
      "Entering simulation mode..\n",
      "Pedestrian reached target in: 21.00000000000003 with a speed of: 0.9999999999999984 (expected speed was:  1.0 )\n",
      "Pedestrian reached target in: 21.00000000000003 with a speed of: 0.9999999999999987 (expected speed was:  1.0 )\n",
      "Pedestrian reached target in: 21.00000000000003 with a speed of: 0.9999999999999987 (expected speed was:  1.0 )\n",
      "Pedestrian reached target in: 21.00000000000003 with a speed of: 0.9999999999999987 (expected speed was:  1.0 )\n",
      "Pedestrian reached target in: 21.00000000000003 with a speed of: 0.9999999999999987 (expected speed was:  1.0 )\n"
     ]
    }
   ],
   "source": [
    "app = Tk()\n",
    "setup_task_3(app)\n",
    "app.mainloop()"
   ]
  }
 ],
 "metadata": {
  "kernelspec": {
   "display_name": "Python 3",
   "language": "python",
   "name": "python3"
  },
  "language_info": {
   "codemirror_mode": {
    "name": "ipython",
    "version": 3
   },
   "file_extension": ".py",
   "mimetype": "text/x-python",
   "name": "python",
   "nbconvert_exporter": "python",
   "pygments_lexer": "ipython3",
   "version": "3.8.6"
  }
 },
 "nbformat": 4,
 "nbformat_minor": 4
}